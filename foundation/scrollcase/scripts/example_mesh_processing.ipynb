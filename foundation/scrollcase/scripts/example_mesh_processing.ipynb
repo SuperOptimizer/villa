{
 "cells": [
  {
   "cell_type": "code",
   "execution_count": null,
   "metadata": {},
   "outputs": [],
   "source": [
    "from build123d import *\n",
    "import scrollcase as sc\n",
    "import logging\n",
    "from ocp_vscode import *\n",
    "import numpy as np\n",
    "\n",
    "logging.basicConfig()  # Required in Jupyter to correctly set output stream\n",
    "logging.getLogger(\"scrollcase\").setLevel(logging.DEBUG)"
   ]
  },
  {
   "cell_type": "code",
   "execution_count": null,
   "metadata": {},
   "outputs": [],
   "source": [
    "SCROLL_PATH = \"../data/scrolls/PHerc172-Scroll.ply\"\n",
    "# SCROLL_PATH = \"../data/scrolls/840_mesh/scene_dense_refine.ply\"\n"
   ]
  },
  {
   "cell_type": "markdown",
   "metadata": {},
   "source": [
    "# Basic Mesh\n"
   ]
  },
  {
   "cell_type": "code",
   "execution_count": null,
   "metadata": {},
   "outputs": [],
   "source": [
    "scroll_mesh = sc.mesh.ScrollMesh(mesh_path=SCROLL_PATH, target_scale_diagonal_mm=180)\n",
    "(\n",
    "    lining_mesh_pos,\n",
    "    lining_mesh_neg,\n",
    "    cavity_mesh_pos,\n",
    "    cavity_mesh_neg,\n",
    "    mesh_scroll,\n",
    "    radius,\n",
    "    height,\n",
    ") = sc.mesh.build_lining(scroll_mesh)\n",
    "sc.mesh.show_meshlib(lining_mesh_neg, mesh_scroll)"
   ]
  },
  {
   "cell_type": "markdown",
   "metadata": {},
   "source": [
    "# Rotation to 3rd Principal Axis\n"
   ]
  },
  {
   "cell_type": "code",
   "execution_count": null,
   "metadata": {},
   "outputs": [],
   "source": [
    "from functools import partial\n",
    "\n",
    "\n",
    "scroll_mesh = sc.mesh.ScrollMesh(\n",
    "    mesh_path=SCROLL_PATH,\n",
    "    target_scale_diagonal_mm=180,\n",
    "    rotation_callback=partial(\n",
    "        sc.mesh.rotate_about_2nd_principal, rotation_rad=np.pi / 2\n",
    "    ),\n",
    ")\n",
    "(\n",
    "    lining_mesh_pos,\n",
    "    lining_mesh_neg,\n",
    "    cavity_mesh_pos,\n",
    "    cavity_mesh_neg,\n",
    "    mesh_scroll,\n",
    "    radius,\n",
    "    height,\n",
    ") = sc.mesh.build_lining(scroll_mesh)\n",
    "sc.mesh.show_meshlib(lining_mesh_neg, mesh_scroll)"
   ]
  },
  {
   "cell_type": "markdown",
   "metadata": {},
   "source": [
    "# Mesh smoothing with denoise\n"
   ]
  },
  {
   "cell_type": "code",
   "execution_count": null,
   "metadata": {},
   "outputs": [],
   "source": [
    "scroll_mesh = sc.mesh.ScrollMesh(\n",
    "    mesh_path=SCROLL_PATH,\n",
    "    target_scale_diagonal_mm=180,\n",
    "    smoothing_callback=partial(sc.mesh.mesh_smooth_denoise, gamma=20),\n",
    "    smoothing_unite_with_original=False,\n",
    ")\n",
    "(\n",
    "    lining_mesh_pos,\n",
    "    lining_mesh_neg,\n",
    "    cavity_mesh_pos,\n",
    "    cavity_mesh_neg,\n",
    "    mesh_scroll,\n",
    "    radius,\n",
    "    height,\n",
    ") = sc.mesh.build_lining(scroll_mesh)\n",
    "sc.mesh.show_meshlib(lining_mesh_neg, mesh_scroll)"
   ]
  },
  {
   "cell_type": "markdown",
   "metadata": {},
   "source": [
    "# Mesh Smoothing with Shrink/Expand\n"
   ]
  },
  {
   "cell_type": "code",
   "execution_count": null,
   "metadata": {},
   "outputs": [],
   "source": [
    "scroll_mesh = sc.mesh.ScrollMesh(\n",
    "    mesh_path=SCROLL_PATH,\n",
    "    target_scale_diagonal_mm=180,\n",
    "    smoothing_callback=partial(\n",
    "        sc.mesh.mesh_smooth_shrink_expand, amount_mm=2, shrink_first=True\n",
    "    ),\n",
    "    smoothing_unite_with_original=True,\n",
    ")\n",
    "(\n",
    "    lining_mesh_pos,\n",
    "    lining_mesh_neg,\n",
    "    cavity_mesh_pos,\n",
    "    cavity_mesh_neg,\n",
    "    mesh_scroll,\n",
    "    radius,\n",
    "    height,\n",
    ") = sc.mesh.build_lining(scroll_mesh)\n",
    "sc.mesh.show_meshlib(lining_mesh_neg, mesh_scroll)"
   ]
  }
 ],
 "metadata": {
  "kernelspec": {
   "display_name": "python-3.12",
   "language": "python",
   "name": "python3"
  },
  "language_info": {
   "codemirror_mode": {
    "name": "ipython",
    "version": 3
   },
   "file_extension": ".py",
   "mimetype": "text/x-python",
   "name": "python",
   "nbconvert_exporter": "python",
   "pygments_lexer": "ipython3",
   "version": "3.12.5"
  }
 },
 "nbformat": 4,
 "nbformat_minor": 2
}
