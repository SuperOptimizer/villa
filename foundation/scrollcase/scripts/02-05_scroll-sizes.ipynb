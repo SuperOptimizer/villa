{
 "cells": [
  {
   "cell_type": "code",
   "execution_count": null,
   "metadata": {},
   "outputs": [],
   "source": [
    "import numpy as np\n",
    "from build123d import *\n",
    "from ocp_vscode import show\n",
    "\n",
    "import scrollcase as sc\n"
   ]
  },
  {
   "cell_type": "code",
   "execution_count": null,
   "metadata": {},
   "outputs": [],
   "source": [
    "# diameter, height in mm\n",
    "case_sizes = [\n",
    "    [7.0, 17.0],\n",
    "    [6.0, 15.0],\n",
    "    [5.5, 15.0],\n",
    "    [6.5, 14.0],\n",
    "    [4.5, 12.5],\n",
    "    [4.5, 4.5],\n",
    "    [5.0, 16.5],\n",
    "    [6.0, 22.0],\n",
    "    [13.5, 10.5],\n",
    "    [7.5, 19.5],\n",
    "    [4.5, 15.5],\n",
    "    [4.5, 15.0],\n",
    "    [5.0, 16.5],\n",
    "    [4.0, 10.0],\n",
    "    [5.5, 17.0],\n",
    "    [3.5, 13.5],\n",
    "    [6.0, 8.5],\n",
    "    [5.0, 17.5],\n",
    "    [16.2, 17.4],\n",
    "    [7.4, 9.9],\n",
    "    [6.4, 11.0],\n",
    "    [8.6, 9.0],\n",
    "    [6.9, 19.5],\n",
    "]\n"
   ]
  },
  {
   "cell_type": "code",
   "execution_count": null,
   "metadata": {},
   "outputs": [],
   "source": [
    "cases = [\n",
    "    Compound(sc.case.build_case(sc.case.ScrollCase(height * 10, diameter * 10 / 2)))\n",
    "    for diameter, height in case_sizes\n",
    "]"
   ]
  },
  {
   "cell_type": "code",
   "execution_count": null,
   "metadata": {},
   "outputs": [],
   "source": [
    "p = pack(cases, 10)\n",
    "show(p)"
   ]
  }
 ],
 "metadata": {
  "kernelspec": {
   "display_name": "python-3.12",
   "language": "python",
   "name": "python3"
  },
  "language_info": {
   "codemirror_mode": {
    "name": "ipython",
    "version": 3
   },
   "file_extension": ".py",
   "mimetype": "text/x-python",
   "name": "python",
   "nbconvert_exporter": "python",
   "pygments_lexer": "ipython3",
   "version": "3.12.5"
  }
 },
 "nbformat": 4,
 "nbformat_minor": 2
}
